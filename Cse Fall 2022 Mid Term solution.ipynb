{
  "cells": [
    {
      "cell_type": "code",
      "execution_count": 7,
      "metadata": {
        "colab": {
          "base_uri": "https://localhost:8080/"
        },
        "id": "V3fm34bX39E8",
        "outputId": "fd3a7813-fa6b-4dbc-aff3-6af9fd056584"
      },
      "outputs": [
        {
          "name": "stdout",
          "output_type": "stream",
          "text": [
            " Genre: Heavy Metal \n",
            " Songlist : This Fire Burns , Here I Am \n"
          ]
        }
      ],
      "source": [
        "class Spotify:\n",
        "  def __init__(self,genre,*args):\n",
        "    self.genre = genre\n",
        "    self.args=args\n",
        "\n",
        "  def show_playlist(self):\n",
        "     self.output=\"\"\n",
        "     for i in self.args:\n",
        "       self.output +=i\n",
        "       self.output+=\" , \"\n",
        "     return(f\" Genre: {self.genre} \\n Songlist : {self.output[:-2]}\")\n",
        "rock= Spotify(\"Heavy Metal\", \"This Fire Burns\", \"Here I Am\")\n",
        "print(rock.show_playlist())"
      ]
    },
    {
      "cell_type": "code",
      "execution_count": null,
      "metadata": {
        "colab": {
          "base_uri": "https://localhost:8080/"
        },
        "id": "sMMBWulR8zDc",
        "outputId": "b674d3fb-3259-4ac2-a725-c307ac2509c6"
      },
      "outputs": [
        {
          "name": "stdout",
          "output_type": "stream",
          "text": [
            "1################################# \n",
            " Your 6-inch Hot spicy Regular Pizza is ready with \n",
            " Cheese,Pepperoni toppings. Enjoy\n",
            "2================================\n",
            "3#################################\n",
            " No toppings specified! Can't bake pizza.\n",
            "4================================\n",
            "5#################################\n",
            " Your 12 -inch Regular spicy Chicken Blast Pizza is ready with \n",
            " Mushroom toppings. Enjoy!\n",
            "6================================\n",
            "7#################################\n",
            "Sorry! Spice level not allowed. Can't bake pizza.\n",
            "8================================\n"
          ]
        }
      ],
      "source": [
        "class PizzaMachine:\n",
        "  def __init__(self,*args):\n",
        "    self.args=args\n",
        "  def customizePizza(self,*bros):\n",
        "    self.bros = bros\n",
        "    self.item = \"\"\n",
        "    if self.bros == None:\n",
        "      print(\"Sorry! Spice level not allowed. Can't bake pizza.\")\n",
        "\n",
        "\n",
        "    \n",
        "    if len(self.bros) == 2 and len(self.args) !=2 :\n",
        "      for i in self.bros[0]:\n",
        "        self.item +=i\n",
        "        self.item += \",\"\n",
        "      return(f\" Your 6-inch {self.bros[1]} spicy Regular Pizza is ready with \\n {self.item[:-1]} toppings. Enjoy\")\n",
        "    \n",
        "    elif len(self.bros) == 1 and self.bros[0] != list and len(self.args) != 2 :\n",
        "      return(f\" No toppings specified! Can't bake pizza.\")\n",
        "    \n",
        "    elif len(self.args) == 2 and len(self.bros) == 1 : #self.bros == list :\n",
        "          if len(self.bros) == 1 :\n",
        "            for i in self.bros[0]:\n",
        "              self.item +=i\n",
        "            return(f\" Your {self.args[1]} -inch Regular spicy {self.args[0]} Pizza is ready with \\n {self.item} toppings. Enjoy!\")\n",
        "    \n",
        "    elif len(self.args) == 2 and len(self.bros) == 2 :\n",
        "      for i in (self.bros):\n",
        "        if self.bros[1] != \"Hot\" and self.bros[1] != \"Regular\" and self.bros[1] != \"Super Naga\" : \n",
        "        #if self.bros[1] == \"Mild\":\n",
        "          return(f\"Sorry! Spice level not allowed. Can't bake pizza.\")\n",
        "\n",
        "      #for i in self.bros[0]:\n",
        "        #self.item +=i\n",
        "        #self.item += \",\"\n",
        "      #return(f\" Your {self.args[1]}-inch {self.bros[1]} spicy {self.args[0]} Pizza is ready with \\n {self.item} toppings. Enjoy!\")\n",
        "      #return \n",
        "\n",
        "    #elif len(self.args) == 1 and len(self.bros) != 0:\n",
        "      #for i in self.bros :\n",
        "        #if (self.bros[0] or self[1] != \"Super Naga\") and  (self.bros[0] or self[1]  != \"Hot\") and (self.bros[0] or self[1]  != \"Regular\") :\n",
        "          #return(f\"Sorry! Spice level not allowed. Can't bake pizza.\")\n",
        "    \n",
        "    #elif len(self.args) == 1 and len(self.bros) == 1 :\n",
        "      #for i in self.bros[0] :\n",
        "        #if self.bros[0] != \"Super Naga\" and  self.bros[0] != \"Hot\" and self.bros[0] != \"Regular\" :\n",
        "          #return (f\"Sorry! Spice level not allowed. Can't bake pizza.\")\n",
        "\n",
        "pizza1 = PizzaMachine()\n",
        "order1 = pizza1.customizePizza([\"Cheese\", \"Pepperoni\"],\n",
        "\"Hot\")\n",
        "print(\"1################################# \")\n",
        "print(order1)\n",
        "print(\"2================================\")\n",
        "pizza2 = PizzaMachine(\"Vege\")\n",
        "order2 = pizza2.customizePizza(\"Super Naga\")\n",
        "print(\"3#################################\")\n",
        "print(order2)\n",
        "print(\"4================================\")\n",
        "pizza3 = PizzaMachine(\"Chicken Blast\",12)\n",
        "order3 = pizza3.customizePizza([\"Mushroom\"])\n",
        "print(\"5#################################\")\n",
        "print(order3)\n",
        "print(\"6================================\")\n",
        "pizza4 = PizzaMachine(\"Beef Bonanza\",16)\n",
        "order4 = pizza4.customizePizza([\"Cheese\",\"Beef kalabhuna\"],\"Mild\")\n",
        "print(\"7#################################\")\n",
        "print(order4)\n",
        "print(\"8================================\")"
      ]
    }
  ],
  "metadata": {
    "colab": {
      "provenance": []
    },
    "kernelspec": {
      "display_name": "Python 3",
      "language": "python",
      "name": "python3"
    },
    "language_info": {
      "codemirror_mode": {
        "name": "ipython",
        "version": 3
      },
      "file_extension": ".py",
      "mimetype": "text/x-python",
      "name": "python",
      "nbconvert_exporter": "python",
      "pygments_lexer": "ipython3",
      "version": "3.11.2"
    },
    "vscode": {
      "interpreter": {
        "hash": "34d159953b303130a21521e8daeeb18aacf6e9693be5f7f603749d2efc52db36"
      }
    }
  },
  "nbformat": 4,
  "nbformat_minor": 0
}
